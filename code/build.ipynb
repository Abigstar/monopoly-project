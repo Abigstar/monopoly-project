{
 "cells": [
  {
   "cell_type": "code",
   "execution_count": 1,
   "id": "d3c6936d",
   "metadata": {},
   "outputs": [],
   "source": [
    "import numpy as np"
   ]
  },
  {
   "cell_type": "code",
   "execution_count": null,
   "id": "deec0dca",
   "metadata": {},
   "outputs": [],
   "source": [
    "# DO NOT EDIT IN CODE - these track original number\n",
    "tot_comcard = 16\n",
    "tot_chacard = 16\n",
    "tot_house = 32\n",
    "tot_hotel = 12"
   ]
  },
  {
   "cell_type": "code",
   "execution_count": null,
   "id": "ec6c2f04",
   "metadata": {},
   "outputs": [],
   "source": [
    "class Player:\n",
    "    position = 0\n",
    "    location = 0\n",
    "    \n",
    "    def __init__(self, name=\"Player\"):\n",
    "        self.name = name\n",
    "        self.worth = 1500\n",
    "\n",
    "    def \n",
    "\n"
   ]
  },
  {
   "cell_type": "code",
   "execution_count": null,
   "id": "9a77bcc6",
   "metadata": {},
   "outputs": [],
   "source": [
    "class Space:\n",
    "    def __init__(self, name, id, group): # possibly make name into a seperate dict\n",
    "        self.name = name\n",
    "        self.id = id\n",
    "        self.group = group\n",
    "    \n",
    "    def act(self, player = Player()):\n",
    "        player.location = self.id\n",
    "# when player lands, if owned == False, option to buy. If owned == true, check that landed player does or doesnt equal\n",
    "class Property(Space):\n",
    "    owned = True\n",
    "    owner = None\n",
    "    mortgage = False\n",
    "    rentlevel = 0\n",
    "\n",
    "    def __init__(self, name, id, group, cost, rent, hcost, h1rent, h2rent, h3rent, h4rent, h5rent, mortcost):\n",
    "        super().__init__(self, name, id, group)\n",
    "        self.groupname = set[group]\n",
    "        self.rents = rent # [base, h0, h1, h2, h3, h4, h5]\n",
    "        self.cost = cost\n",
    "        self.hcost = hcost\n",
    "        self.mortcost = mortcost\n",
    "\n",
    "    def act(self, player):\n",
    "        super().act(self, player)\n",
    "\n",
    "        if self.owned:\n",
    "            if self.owner == player: # make these player ids rather than actual player objects? lookup becomes hard in theory\n",
    "                pass\n",
    "            elif self.owner != player:\n",
    "                # transfer money from player to owner\n",
    "        elif self.owned:\n",
    "\n",
    "\n",
    "class CommunityChest(Space):\n"
   ]
  },
  {
   "cell_type": "code",
   "execution_count": null,
   "id": "038c2a93",
   "metadata": {},
   "outputs": [],
   "source": [
    "spaces = {0:\"GO\", 1:\"Baltic Avenue\"}\n",
    "# set is the group that the thing is in, such as utilities or teal\n",
    "set = {0:\"None\", 1:\"Brown\", 2:\"Light Blue\", 3:\"Pink\", 4:\"Orange\", 5:\"Red\", 6:\"Yellow\", 7:\"Green\", 8:\"Dark Blue\", 9:\"Railroad\", 10:\"Utility\"}\n",
    "# similar to set, gives an actual hue. not necessary maybe?\n",
    "color = {0:}"
   ]
  }
 ],
 "metadata": {
  "kernelspec": {
   "display_name": "base",
   "language": "python",
   "name": "python3"
  },
  "language_info": {
   "codemirror_mode": {
    "name": "ipython",
    "version": 3
   },
   "file_extension": ".py",
   "mimetype": "text/x-python",
   "name": "python",
   "nbconvert_exporter": "python",
   "pygments_lexer": "ipython3",
   "version": "3.12.7"
  }
 },
 "nbformat": 4,
 "nbformat_minor": 5
}
